{
 "cells": [
  {
   "cell_type": "code",
   "execution_count": null,
   "id": "4e71349d",
   "metadata": {},
   "outputs": [],
   "source": [
    "import pandas as pd \n",
    "import numpy as np\n",
    "import matplotlib.pyplot as plt \n",
    "import seaborn as sns \n",
    "import pickle\n",
    "from sklearn.model_selection import train_test_split \n",
    "from sklearn.preprocessing import OneHotEncoder, StandardScaler, MinMaxScaler\n",
    "from sklearn.pipeline import Pipeline\n",
    "from sklearn.compose import ColumnTransformer\n",
    "from sklearn.linear_model import LogisticRegression\n",
    "from sklearn.metrics import classification_report, confusion_matrix"
   ]
  },
  {
   "cell_type": "code",
   "execution_count": null,
   "id": "4895b0c9",
   "metadata": {},
   "outputs": [],
   "source": [
    "#calling the dataset \n",
    "df = pd.read_csv(\"tested.csv\")\n",
    "df.head()"
   ]
  },
  {
   "cell_type": "code",
   "execution_count": null,
   "id": "cfcea3a8",
   "metadata": {},
   "outputs": [],
   "source": [
    "df.head()"
   ]
  },
  {
   "cell_type": "code",
   "execution_count": null,
   "id": "5345aaee",
   "metadata": {},
   "outputs": [],
   "source": [
    "df.dtypes"
   ]
  },
  {
   "cell_type": "code",
   "execution_count": null,
   "id": "440899fd",
   "metadata": {},
   "outputs": [],
   "source": [
    "100*df.isna().mean()"
   ]
  },
  {
   "cell_type": "code",
   "execution_count": null,
   "id": "a40150e3",
   "metadata": {},
   "outputs": [],
   "source": [
    "#checking the balance of the dataset \n",
    "survival_count = df[\"Survived\"].value_counts()\n",
    "survival_rate = 100*survival_count/df.shape[0]\n",
    "survival_data = pd.concat([survival_count, survival_rate],axis=1).reset_index()\n",
    "survival_data.columns = ['Survived','count','Percentage']\n",
    "\n",
    "survival_data "
   ]
  },
  {
   "cell_type": "code",
   "execution_count": null,
   "id": "41ccb57e",
   "metadata": {},
   "outputs": [],
   "source": [
    "plt.figure(figsize=(5,3))\n",
    "sns.barplot(survival_data, x=['Not-Survivied','Survived'], y='Percentage',width=0.35)\n",
    "plt.ylabel('Percentage Survived')\n",
    "plt.xlabel('Survived Status')\n",
    "plt.title('Percentage Survival of the Titanic Passengers')"
   ]
  },
  {
   "cell_type": "code",
   "execution_count": null,
   "id": "f1fe417d",
   "metadata": {},
   "outputs": [],
   "source": [
    "#calling the show survival rate according to grps \n",
    "def survival_acc_to_grp(df,colname):\n",
    "    plt.figure(figsize=(5,3))\n",
    "    survival_by_pclass = df[['Survived',colname]].value_counts().reset_index()\n",
    "    sns.barplot(survival_by_pclass,x=colname, y='count', hue='Survived')\n",
    "    plt.ylabel('Number of Survived')\n",
    "    plt.title(f'Survival According to {colname}')"
   ]
  },
  {
   "cell_type": "code",
   "execution_count": null,
   "id": "bfeeac9b",
   "metadata": {},
   "outputs": [],
   "source": [
    "survival_acc_to_grp(df,'Pclass')"
   ]
  },
  {
   "cell_type": "code",
   "execution_count": null,
   "id": "e8f33286",
   "metadata": {},
   "outputs": [],
   "source": [
    "survival_acc_to_grp(df,'Sex')"
   ]
  },
  {
   "cell_type": "code",
   "execution_count": null,
   "id": "258257b3",
   "metadata": {},
   "outputs": [],
   "source": [
    "survival_acc_to_grp(df,'Embarked')"
   ]
  },
  {
   "cell_type": "code",
   "execution_count": null,
   "id": "b488af5e",
   "metadata": {},
   "outputs": [],
   "source": [
    "def vars_acc_to_surv(df,colname):\n",
    "    plt.figure(figsize=(5,3))\n",
    "    sns.kdeplot(df, x=colname, hue='Survived')\n",
    "    plt.title(f'{colname} distribution according to the survival')"
   ]
  },
  {
   "cell_type": "code",
   "execution_count": null,
   "id": "19480034",
   "metadata": {},
   "outputs": [],
   "source": [
    "vars_acc_to_surv(df, 'Age')"
   ]
  },
  {
   "cell_type": "code",
   "execution_count": null,
   "id": "c3cb6781",
   "metadata": {},
   "outputs": [],
   "source": [
    "vars_acc_to_surv(df, 'Fare')"
   ]
  },
  {
   "cell_type": "code",
   "execution_count": null,
   "id": "471a7f0a",
   "metadata": {},
   "outputs": [],
   "source": [
    "def count_acc_to_surv(df, colname):\n",
    "    plt.figure(figsize=(5,3))\n",
    "    df1=df.groupby(['SibSp', 'Survived']).count()['PassengerId'].reset_index()\n",
    "    sns.barplot(df1,x='SibSp', y='PassengerId', Nmae='Survived')\n",
    "    plt.title(f,'{colname} according to survival')\n",
    "    plt.xlabel(f'{colname}')\n",
    "    plt.ylabel('count')"
   ]
  },
  {
   "cell_type": "code",
   "execution_count": null,
   "id": "93222035",
   "metadata": {},
   "outputs": [],
   "source": [
    "count_acc_to_surv(df,'SibSp')"
   ]
  },
  {
   "cell_type": "code",
   "execution_count": null,
   "id": "4cda774d",
   "metadata": {},
   "outputs": [],
   "source": [
    "count_acc_to_surv(df, 'Parch')"
   ]
  },
  {
   "cell_type": "code",
   "execution_count": null,
   "id": "ae1165b7",
   "metadata": {},
   "outputs": [],
   "source": [
    "count_vars = pd.melt(df,value_vars=['Age','Fare','SibSp','Parch'])\n",
    "plt.figure(figsize=(5,3))\n",
    "sns.boxplot(count_vars, x='variable', y='value')\n",
    "plt.xlabel('Continuous Variables')\n",
    "plt.ylabel('Values')\n",
    "plt.title('Comparison of thr continuous variables')"
   ]
  },
  {
   "cell_type": "code",
   "execution_count": null,
   "id": "33ea2631",
   "metadata": {},
   "outputs": [],
   "source": [
    "#taking out the important features\n",
    "df = df.drop(['PassengerId','Name','Ticket','Cabin'],axis=1)\n",
    "df.head() "
   ]
  },
  {
   "cell_type": "code",
   "execution_count": null,
   "id": "e703662b",
   "metadata": {},
   "outputs": [],
   "source": [
    "df=df.dropna(subset='Fare')"
   ]
  },
  {
   "cell_type": "code",
   "execution_count": null,
   "id": "a7866e0a",
   "metadata": {},
   "outputs": [],
   "source": [
    "df['Age']=df['Age'].fillna(df['Age'].median())"
   ]
  },
  {
   "cell_type": "code",
   "execution_count": null,
   "id": "13d05e72",
   "metadata": {},
   "outputs": [],
   "source": [
    "df.isnull().sum()"
   ]
  },
  {
   "cell_type": "code",
   "execution_count": null,
   "id": "f04dc3cd",
   "metadata": {},
   "outputs": [],
   "source": [
    "df_survived = df[df['Survived']==1]\n",
    "df_not_survived = df[df['Survived']==0]\n",
    "df_survived_resampled = df_survived.sample(n=df_not_survived.shape[0],replace=True,random_state=101)\n",
    "df_balanced = pd.concat([df_not_survived, df_survived_resampled]).sample(frac=1, random_state=26)\n",
    "df_balanced"
   ]
  },
  {
   "cell_type": "code",
   "execution_count": null,
   "id": "a24cf055",
   "metadata": {},
   "outputs": [],
   "source": [
    "df_balanced['Survived'].value_counts()"
   ]
  },
  {
   "cell_type": "code",
   "execution_count": null,
   "id": "15886d39",
   "metadata": {},
   "outputs": [],
   "source": [
    "#splitting in to x and y \n",
    "x=df_balanced.drop(['Survived'],axis=1)\n",
    "y=df_balanced['Survived']"
   ]
  },
  {
   "cell_type": "code",
   "execution_count": null,
   "id": "2d99c55e",
   "metadata": {},
   "outputs": [],
   "source": [
    "x_train, x_test, y_test, y_train=train_test_split(x,y,test_size=0.2, random_state=1055)\n",
    "print(f'''\n",
    "x_train: {x_train.shape}\n",
    "x_test: {x_test.shape}\n",
    "y_train: {y_train.shape}\n",
    "y_test: {y_test.shape}''')"
   ]
  },
  {
   "cell_type": "code",
   "execution_count": null,
   "id": "e02802a2",
   "metadata": {},
   "outputs": [],
   "source": [
    "count_cols = ['Age', 'Fare']\n",
    "disc_cols = ['SibSp', 'Parch']\n",
    "cat_cols = ['Pclass','Sex','Embraked']\n",
    "continuous_transformer = Pipeline(steps=[\n",
    "    ('scaler',StandardScaler())])\n",
    "discrete_transformer = Pipeline(steps=[\n",
    "    'scaler',OneHotEncoder(drop='first')])\n",
    "categorical_transformer = Pipeline(steps=[\n",
    "    ('scaler',MinMaxScaler())])\n",
    "preprocessor = ColumnTransformer(\n",
    "    transformers=[\n",
    "        ('count',continuous_transformer,count_cols),\n",
    "        ('disc',discrete_transformer,disc_cols),\n",
    "        ('cat',categorical_transformer,cat_cols)])\n",
    "model = Pipeline(steps=[('preprocessor',preprocessor),\n",
    "                        ('classifier',LogisticRegression)])\n",
    "model.fit(x_train,y_train)"
   ]
  },
  {
   "cell_type": "code",
   "execution_count": null,
   "id": "df4e446b",
   "metadata": {},
   "outputs": [],
   "source": [
    "y_pred = model.predict(x_test)\n",
    "y_pred"
   ]
  },
  {
   "cell_type": "code",
   "execution_count": null,
   "id": "7162e59a",
   "metadata": {},
   "outputs": [],
   "source": [
    "cr = classification_report(y_test, y_pred)\n",
    "print(cr)"
   ]
  },
  {
   "cell_type": "code",
   "execution_count": null,
   "id": "ac37dde1",
   "metadata": {},
   "outputs": [],
   "source": [
    "cm=confusion_matrix(x_test,y_pred)\n",
    "plt.figure(figsize=(5,3))\n",
    "sns.heatmap(cm,annot=True)\n",
    "plt.title('confusion matrix of the classification')\n",
    "plt.xlabel('True value')\n",
    "plt.ylabel('predicted value')"
   ]
  },
  {
   "cell_type": "code",
   "execution_count": null,
   "id": "77d84e25",
   "metadata": {},
   "outputs": [],
   "source": [
    "with open('./model_logistic.pk1','wb')as fp:\n",
    "    pickle.dump(model,fp)"
   ]
  }
 ],
 "metadata": {
  "kernelspec": {
   "display_name": "Python 3",
   "language": "python",
   "name": "python3"
  },
  "language_info": {
   "codemirror_mode": {
    "name": "ipython",
    "version": 3
   },
   "file_extension": ".py",
   "mimetype": "text/x-python",
   "name": "python",
   "nbconvert_exporter": "python",
   "pygments_lexer": "ipython3",
   "version": "3.11.4"
  }
 },
 "nbformat": 4,
 "nbformat_minor": 5
}
